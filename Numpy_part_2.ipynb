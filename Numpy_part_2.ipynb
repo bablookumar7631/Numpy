{
 "cells": [
  {
   "cell_type": "code",
   "execution_count": 1,
   "id": "b944ea8e-cfda-4a57-b524-b1118d867417",
   "metadata": {},
   "outputs": [],
   "source": [
    "# Numpy - Array Manipulation"
   ]
  },
  {
   "cell_type": "code",
   "execution_count": 2,
   "id": "711dbc60-e013-4321-9144-2846c5ef8801",
   "metadata": {},
   "outputs": [],
   "source": [
    "import numpy as np"
   ]
  },
  {
   "cell_type": "code",
   "execution_count": 3,
   "id": "9fa8326a-9cd4-4d49-9332-9e9cffe93b24",
   "metadata": {},
   "outputs": [],
   "source": [
    "arr = np.random.randint(1,10, (3,4))"
   ]
  },
  {
   "cell_type": "code",
   "execution_count": 4,
   "id": "355afd3a-b0af-4bda-92ef-7a226d2a43e6",
   "metadata": {},
   "outputs": [
    {
     "data": {
      "text/plain": [
       "array([[9, 5, 9, 4],\n",
       "       [9, 1, 9, 5],\n",
       "       [2, 7, 4, 1]])"
      ]
     },
     "execution_count": 4,
     "metadata": {},
     "output_type": "execute_result"
    }
   ],
   "source": [
    "arr"
   ]
  },
  {
   "cell_type": "code",
   "execution_count": 5,
   "id": "78317f40-1026-46a8-935a-8512aa367b78",
   "metadata": {},
   "outputs": [
    {
     "data": {
      "text/plain": [
       "array([[9, 5],\n",
       "       [9, 4],\n",
       "       [9, 1],\n",
       "       [9, 5],\n",
       "       [2, 7],\n",
       "       [4, 1]])"
      ]
     },
     "execution_count": 5,
     "metadata": {},
     "output_type": "execute_result"
    }
   ],
   "source": [
    "arr.reshape(6,2)"
   ]
  },
  {
   "cell_type": "code",
   "execution_count": 6,
   "id": "915ca97b-8108-44a0-9c8e-3a351f04a447",
   "metadata": {},
   "outputs": [
    {
     "data": {
      "text/plain": [
       "array([[9, 5, 9, 4, 9, 1],\n",
       "       [9, 5, 2, 7, 4, 1]])"
      ]
     },
     "execution_count": 6,
     "metadata": {},
     "output_type": "execute_result"
    }
   ],
   "source": [
    "arr.reshape(2,6)"
   ]
  },
  {
   "cell_type": "code",
   "execution_count": 7,
   "id": "5be47b39-c85c-436a-b174-cb85eae90908",
   "metadata": {},
   "outputs": [
    {
     "data": {
      "text/plain": [
       "array([[9, 5, 9, 4, 9, 1],\n",
       "       [9, 5, 2, 7, 4, 1]])"
      ]
     },
     "execution_count": 7,
     "metadata": {},
     "output_type": "execute_result"
    }
   ],
   "source": [
    "arr.reshape(2,-3435)"
   ]
  },
  {
   "cell_type": "code",
   "execution_count": 8,
   "id": "bcd70491-ba16-4f50-ad4d-a14a220e8755",
   "metadata": {},
   "outputs": [
    {
     "data": {
      "text/plain": [
       "array([[9, 9, 2],\n",
       "       [5, 1, 7],\n",
       "       [9, 9, 4],\n",
       "       [4, 5, 1]])"
      ]
     },
     "execution_count": 8,
     "metadata": {},
     "output_type": "execute_result"
    }
   ],
   "source": [
    "arr.T"
   ]
  },
  {
   "cell_type": "code",
   "execution_count": 9,
   "id": "8da06fe1-ce6e-4834-8414-06252f4f0f61",
   "metadata": {},
   "outputs": [
    {
     "data": {
      "text/plain": [
       "array([[9, 5, 9, 4],\n",
       "       [9, 1, 9, 5],\n",
       "       [2, 7, 4, 1]])"
      ]
     },
     "execution_count": 9,
     "metadata": {},
     "output_type": "execute_result"
    }
   ],
   "source": [
    "arr"
   ]
  },
  {
   "cell_type": "code",
   "execution_count": 11,
   "id": "e2a3c078-5920-41b2-b0d2-c4ffcd6c56c0",
   "metadata": {},
   "outputs": [
    {
     "data": {
      "text/plain": [
       "array([9, 5, 9, 4, 9, 1, 9, 5, 2, 7, 4, 1])"
      ]
     },
     "execution_count": 11,
     "metadata": {},
     "output_type": "execute_result"
    }
   ],
   "source": [
    "arr.flatten()  # change into in one dimention"
   ]
  },
  {
   "cell_type": "code",
   "execution_count": 12,
   "id": "74bc2d1a-3094-44c1-802f-da5926a9ef70",
   "metadata": {},
   "outputs": [],
   "source": [
    "arr1 = np.array([1,2,3,4])"
   ]
  },
  {
   "cell_type": "code",
   "execution_count": 13,
   "id": "b10c3267-236e-47cd-87ee-a000de799f9b",
   "metadata": {},
   "outputs": [
    {
     "data": {
      "text/plain": [
       "1"
      ]
     },
     "execution_count": 13,
     "metadata": {},
     "output_type": "execute_result"
    }
   ],
   "source": [
    "arr1.ndim"
   ]
  },
  {
   "cell_type": "code",
   "execution_count": 14,
   "id": "140aba20-d885-4683-9312-3f7f9fa1ce84",
   "metadata": {},
   "outputs": [
    {
     "data": {
      "text/plain": [
       "array([[1],\n",
       "       [2],\n",
       "       [3],\n",
       "       [4]])"
      ]
     },
     "execution_count": 14,
     "metadata": {},
     "output_type": "execute_result"
    }
   ],
   "source": [
    "np.expand_dims(arr1, axis=1)"
   ]
  },
  {
   "cell_type": "code",
   "execution_count": 15,
   "id": "345af38d-764e-4362-ab2d-cbc3c19729e6",
   "metadata": {},
   "outputs": [
    {
     "data": {
      "text/plain": [
       "array([[1, 2, 3, 4]])"
      ]
     },
     "execution_count": 15,
     "metadata": {},
     "output_type": "execute_result"
    }
   ],
   "source": [
    "np.expand_dims(arr1, axis=0)"
   ]
  },
  {
   "cell_type": "code",
   "execution_count": 16,
   "id": "74f5dd1c-d163-49d8-8ab7-3e9816867c31",
   "metadata": {},
   "outputs": [
    {
     "data": {
      "text/plain": [
       "array([[9, 5, 9, 4],\n",
       "       [9, 1, 9, 5],\n",
       "       [2, 7, 4, 1]])"
      ]
     },
     "execution_count": 16,
     "metadata": {},
     "output_type": "execute_result"
    }
   ],
   "source": [
    "arr"
   ]
  },
  {
   "cell_type": "code",
   "execution_count": 17,
   "id": "c94458fa-0258-4803-971c-3d7d20fa9ab7",
   "metadata": {},
   "outputs": [
    {
     "data": {
      "text/plain": [
       "array([[9, 5, 9, 4],\n",
       "       [9, 1, 9, 5],\n",
       "       [2, 7, 4, 1]])"
      ]
     },
     "execution_count": 17,
     "metadata": {},
     "output_type": "execute_result"
    }
   ],
   "source": [
    "np.squeeze(arr)"
   ]
  },
  {
   "cell_type": "code",
   "execution_count": 18,
   "id": "179e5a57-ed88-4d88-a8e0-8d9ab797229f",
   "metadata": {},
   "outputs": [],
   "source": [
    "data = np.array([[1], [2], [3]])"
   ]
  },
  {
   "cell_type": "code",
   "execution_count": 19,
   "id": "a40bf14b-395d-4ad4-8924-1d616f828e74",
   "metadata": {},
   "outputs": [
    {
     "data": {
      "text/plain": [
       "array([[1],\n",
       "       [2],\n",
       "       [3]])"
      ]
     },
     "execution_count": 19,
     "metadata": {},
     "output_type": "execute_result"
    }
   ],
   "source": [
    "data"
   ]
  },
  {
   "cell_type": "code",
   "execution_count": 20,
   "id": "1f13b2ab-7e5d-4b0a-84d4-208225dbbd09",
   "metadata": {},
   "outputs": [
    {
     "data": {
      "text/plain": [
       "array([1, 2, 3])"
      ]
     },
     "execution_count": 20,
     "metadata": {},
     "output_type": "execute_result"
    }
   ],
   "source": [
    "np.squeeze(data)"
   ]
  },
  {
   "cell_type": "code",
   "execution_count": 21,
   "id": "031f17d5-22bf-4d6a-a902-beb1f2f33346",
   "metadata": {},
   "outputs": [
    {
     "data": {
      "text/plain": [
       "array([1, 2, 3, 4])"
      ]
     },
     "execution_count": 21,
     "metadata": {},
     "output_type": "execute_result"
    }
   ],
   "source": [
    "arr1"
   ]
  },
  {
   "cell_type": "code",
   "execution_count": 22,
   "id": "619d849c-a316-404e-9df1-6aadefaa6267",
   "metadata": {},
   "outputs": [
    {
     "data": {
      "text/plain": [
       "array([1, 1, 1, 2, 2, 2, 3, 3, 3, 4, 4, 4])"
      ]
     },
     "execution_count": 22,
     "metadata": {},
     "output_type": "execute_result"
    }
   ],
   "source": [
    "np.repeat(arr1, 3)"
   ]
  },
  {
   "cell_type": "code",
   "execution_count": 23,
   "id": "6d83fee4-0a1c-448d-82cc-ca9e8681b264",
   "metadata": {},
   "outputs": [
    {
     "data": {
      "text/plain": [
       "array([3, 4, 1, 2])"
      ]
     },
     "execution_count": 23,
     "metadata": {},
     "output_type": "execute_result"
    }
   ],
   "source": [
    "np.roll(arr1, 2)"
   ]
  },
  {
   "cell_type": "code",
   "execution_count": 24,
   "id": "63fb453a-59b1-4c34-a943-c1f118e65a48",
   "metadata": {},
   "outputs": [
    {
     "data": {
      "text/plain": [
       "array([1, 2, 3, 4])"
      ]
     },
     "execution_count": 24,
     "metadata": {},
     "output_type": "execute_result"
    }
   ],
   "source": [
    "arr1"
   ]
  },
  {
   "cell_type": "code",
   "execution_count": 25,
   "id": "07182f97-5702-44e4-8f7b-0fd1fd5702ba",
   "metadata": {},
   "outputs": [
    {
     "data": {
      "text/plain": [
       "array([[1, 0, 0, 0],\n",
       "       [0, 2, 0, 0],\n",
       "       [0, 0, 3, 0],\n",
       "       [0, 0, 0, 4]])"
      ]
     },
     "execution_count": 25,
     "metadata": {},
     "output_type": "execute_result"
    }
   ],
   "source": [
    "np.diag(arr1)"
   ]
  },
  {
   "cell_type": "code",
   "execution_count": 26,
   "id": "3959714b-d853-489d-bd89-e4b8df1aa11c",
   "metadata": {},
   "outputs": [],
   "source": [
    "# Numpy - Binary Operators."
   ]
  },
  {
   "cell_type": "code",
   "execution_count": 27,
   "id": "9901e4d5-794c-44aa-b8cc-a7edeaefd565",
   "metadata": {},
   "outputs": [],
   "source": [
    "arr2 = np.random.randint(1,10, (3,4))"
   ]
  },
  {
   "cell_type": "code",
   "execution_count": 28,
   "id": "26326caa-37da-4f61-a7c6-3569f61fc3a3",
   "metadata": {},
   "outputs": [],
   "source": [
    "arr3 = np.random.randint(1,10, (3,4))"
   ]
  },
  {
   "cell_type": "code",
   "execution_count": 29,
   "id": "6b0b92e4-c367-473b-93aa-4e4117ce74c7",
   "metadata": {},
   "outputs": [
    {
     "data": {
      "text/plain": [
       "array([[5, 3, 1, 6],\n",
       "       [5, 6, 8, 7],\n",
       "       [8, 6, 8, 4]])"
      ]
     },
     "execution_count": 29,
     "metadata": {},
     "output_type": "execute_result"
    }
   ],
   "source": [
    "arr2"
   ]
  },
  {
   "cell_type": "code",
   "execution_count": 30,
   "id": "f6cd4f89-202c-4028-bcc6-c3496782e183",
   "metadata": {},
   "outputs": [
    {
     "data": {
      "text/plain": [
       "array([[4, 9, 8, 8],\n",
       "       [6, 5, 9, 6],\n",
       "       [6, 2, 2, 6]])"
      ]
     },
     "execution_count": 30,
     "metadata": {},
     "output_type": "execute_result"
    }
   ],
   "source": [
    "arr3"
   ]
  },
  {
   "cell_type": "code",
   "execution_count": 31,
   "id": "a9904a0a-65ac-4b74-b373-d26298760706",
   "metadata": {},
   "outputs": [
    {
     "data": {
      "text/plain": [
       "array([[ 9, 12,  9, 14],\n",
       "       [11, 11, 17, 13],\n",
       "       [14,  8, 10, 10]])"
      ]
     },
     "execution_count": 31,
     "metadata": {},
     "output_type": "execute_result"
    }
   ],
   "source": [
    "arr2 + arr3"
   ]
  },
  {
   "cell_type": "code",
   "execution_count": 32,
   "id": "6770a882-42c9-420d-a769-8872c0cab705",
   "metadata": {},
   "outputs": [
    {
     "data": {
      "text/plain": [
       "array([[20, 27,  8, 48],\n",
       "       [30, 30, 72, 42],\n",
       "       [48, 12, 16, 24]])"
      ]
     },
     "execution_count": 32,
     "metadata": {},
     "output_type": "execute_result"
    }
   ],
   "source": [
    "arr2 * arr3"
   ]
  },
  {
   "cell_type": "code",
   "execution_count": 34,
   "id": "28a6b006-0560-4e24-974f-8e57a6c94e0d",
   "metadata": {},
   "outputs": [
    {
     "data": {
      "text/plain": [
       "array([[1.25      , 0.33333333, 0.125     , 0.75      ],\n",
       "       [0.83333333, 1.2       , 0.88888889, 1.16666667],\n",
       "       [1.33333333, 3.        , 4.        , 0.66666667]])"
      ]
     },
     "execution_count": 34,
     "metadata": {},
     "output_type": "execute_result"
    }
   ],
   "source": [
    "arr2/arr3"
   ]
  },
  {
   "cell_type": "code",
   "execution_count": 35,
   "id": "df12a7e6-0ace-4306-9ec5-02d3ec6f2e3b",
   "metadata": {},
   "outputs": [
    {
     "data": {
      "text/plain": [
       "array([[ 1, -6, -7, -2],\n",
       "       [-1,  1, -1,  1],\n",
       "       [ 2,  4,  6, -2]])"
      ]
     },
     "execution_count": 35,
     "metadata": {},
     "output_type": "execute_result"
    }
   ],
   "source": [
    "arr2-arr3"
   ]
  },
  {
   "cell_type": "code",
   "execution_count": 36,
   "id": "a4d9b1f8-5a51-4723-b04f-690c9808427c",
   "metadata": {},
   "outputs": [
    {
     "data": {
      "text/plain": [
       "array([[1, 3, 1, 6],\n",
       "       [5, 1, 8, 1],\n",
       "       [2, 0, 0, 4]])"
      ]
     },
     "execution_count": 36,
     "metadata": {},
     "output_type": "execute_result"
    }
   ],
   "source": [
    "arr2%arr3"
   ]
  },
  {
   "cell_type": "code",
   "execution_count": 37,
   "id": "e642206b-4dd1-4cfd-9b29-e04e216a0c8d",
   "metadata": {},
   "outputs": [
    {
     "data": {
      "text/plain": [
       "array([[      625,     19683,         1,   1679616],\n",
       "       [    15625,      7776, 134217728,    117649],\n",
       "       [   262144,        36,        64,      4096]])"
      ]
     },
     "execution_count": 37,
     "metadata": {},
     "output_type": "execute_result"
    }
   ],
   "source": [
    "arr2 ** arr3"
   ]
  },
  {
   "cell_type": "code",
   "execution_count": 38,
   "id": "b20cc670-f33f-4e65-bf3e-3cc737bf6ac1",
   "metadata": {},
   "outputs": [
    {
     "data": {
      "text/plain": [
       "array([[4, 1, 0, 0],\n",
       "       [4, 4, 8, 6],\n",
       "       [0, 2, 0, 4]])"
      ]
     },
     "execution_count": 38,
     "metadata": {},
     "output_type": "execute_result"
    }
   ],
   "source": [
    "arr2 & arr3"
   ]
  },
  {
   "cell_type": "code",
   "execution_count": 39,
   "id": "42e3f380-2c9d-49bc-a271-c3ac9984f523",
   "metadata": {},
   "outputs": [
    {
     "data": {
      "text/plain": [
       "array([[5, 3, 1, 6],\n",
       "       [5, 6, 8, 7],\n",
       "       [8, 6, 8, 4]])"
      ]
     },
     "execution_count": 39,
     "metadata": {},
     "output_type": "execute_result"
    }
   ],
   "source": [
    "arr2"
   ]
  },
  {
   "cell_type": "code",
   "execution_count": 40,
   "id": "767e9ec6-a040-4c53-949e-5537917a3073",
   "metadata": {},
   "outputs": [
    {
     "data": {
      "text/plain": [
       "array([[4, 9, 8, 8],\n",
       "       [6, 5, 9, 6],\n",
       "       [6, 2, 2, 6]])"
      ]
     },
     "execution_count": 40,
     "metadata": {},
     "output_type": "execute_result"
    }
   ],
   "source": [
    "arr3"
   ]
  },
  {
   "cell_type": "code",
   "execution_count": 41,
   "id": "d87bc76b-3c6e-4cf2-b310-d1dec17f8c23",
   "metadata": {},
   "outputs": [
    {
     "data": {
      "text/plain": [
       "array([[-6, -4, -2, -7],\n",
       "       [-6, -7, -9, -8],\n",
       "       [-9, -7, -9, -5]])"
      ]
     },
     "execution_count": 41,
     "metadata": {},
     "output_type": "execute_result"
    }
   ],
   "source": [
    "~arr2"
   ]
  },
  {
   "cell_type": "code",
   "execution_count": 42,
   "id": "e3af2665-afed-49ee-b6b1-0582ce4d4621",
   "metadata": {},
   "outputs": [
    {
     "data": {
      "text/plain": [
       "array([[ 5, 11,  9, 14],\n",
       "       [ 7,  7,  9,  7],\n",
       "       [14,  6, 10,  6]])"
      ]
     },
     "execution_count": 42,
     "metadata": {},
     "output_type": "execute_result"
    }
   ],
   "source": [
    "arr2|arr3"
   ]
  },
  {
   "cell_type": "code",
   "execution_count": 43,
   "id": "4405422b-9cac-482f-b768-57613bc138d1",
   "metadata": {},
   "outputs": [
    {
     "data": {
      "text/plain": [
       "array([[ True, False, False, False],\n",
       "       [False,  True, False,  True],\n",
       "       [ True,  True,  True, False]])"
      ]
     },
     "execution_count": 43,
     "metadata": {},
     "output_type": "execute_result"
    }
   ],
   "source": [
    "arr2>arr3"
   ]
  },
  {
   "cell_type": "code",
   "execution_count": 44,
   "id": "13cc2a91-7435-4b50-a6a6-e48c2161f3db",
   "metadata": {},
   "outputs": [],
   "source": [
    "# Numpy - String Functions."
   ]
  },
  {
   "cell_type": "code",
   "execution_count": 45,
   "id": "67f7c13b-3dc1-47f1-8f4b-c743e1df9fdc",
   "metadata": {},
   "outputs": [],
   "source": [
    "arr4 = np.array(['sudh', 'kumar'])"
   ]
  },
  {
   "cell_type": "code",
   "execution_count": 46,
   "id": "39004ef0-4e5b-409c-9d8b-5ade5dc3fd7e",
   "metadata": {},
   "outputs": [
    {
     "data": {
      "text/plain": [
       "array(['sudh', 'kumar'], dtype='<U5')"
      ]
     },
     "execution_count": 46,
     "metadata": {},
     "output_type": "execute_result"
    }
   ],
   "source": [
    "arr4"
   ]
  },
  {
   "cell_type": "code",
   "execution_count": 47,
   "id": "c91d318d-1602-4a20-a46d-8fc25c21b8e0",
   "metadata": {},
   "outputs": [
    {
     "data": {
      "text/plain": [
       "array(['SUDH', 'KUMAR'], dtype='<U5')"
      ]
     },
     "execution_count": 47,
     "metadata": {},
     "output_type": "execute_result"
    }
   ],
   "source": [
    "np.char.upper(arr4)"
   ]
  },
  {
   "cell_type": "code",
   "execution_count": 48,
   "id": "8d4dede4-355c-4ab2-991c-c96b625f51b0",
   "metadata": {},
   "outputs": [
    {
     "data": {
      "text/plain": [
       "array(['Sudh', 'Kumar'], dtype='<U5')"
      ]
     },
     "execution_count": 48,
     "metadata": {},
     "output_type": "execute_result"
    }
   ],
   "source": [
    "np.char.capitalize(arr4)"
   ]
  },
  {
   "cell_type": "code",
   "execution_count": 49,
   "id": "83833d7f-e2a2-43c1-8f7d-e3b901f64fdf",
   "metadata": {},
   "outputs": [
    {
     "data": {
      "text/plain": [
       "array(['Sudh', 'Kumar'], dtype='<U5')"
      ]
     },
     "execution_count": 49,
     "metadata": {},
     "output_type": "execute_result"
    }
   ],
   "source": [
    "np.char.title(arr4)"
   ]
  },
  {
   "cell_type": "code",
   "execution_count": 50,
   "id": "b59ba971-28f1-428e-a7c0-328a63af8070",
   "metadata": {},
   "outputs": [],
   "source": [
    "# Numpy - Mathematical Functions."
   ]
  },
  {
   "cell_type": "code",
   "execution_count": 53,
   "id": "891cd045-382d-4167-baad-a49ae0586e70",
   "metadata": {},
   "outputs": [
    {
     "data": {
      "text/plain": [
       "array([[5, 3, 1, 6],\n",
       "       [5, 6, 8, 7],\n",
       "       [8, 6, 8, 4]])"
      ]
     },
     "execution_count": 53,
     "metadata": {},
     "output_type": "execute_result"
    }
   ],
   "source": [
    "arr2"
   ]
  },
  {
   "cell_type": "code",
   "execution_count": 54,
   "id": "b3765cfd-1130-4800-bb52-a41776bc8d51",
   "metadata": {},
   "outputs": [
    {
     "data": {
      "text/plain": [
       "array([[-0.95892427,  0.14112001,  0.84147098, -0.2794155 ],\n",
       "       [-0.95892427, -0.2794155 ,  0.98935825,  0.6569866 ],\n",
       "       [ 0.98935825, -0.2794155 ,  0.98935825, -0.7568025 ]])"
      ]
     },
     "execution_count": 54,
     "metadata": {},
     "output_type": "execute_result"
    }
   ],
   "source": [
    "np.sin(arr2)"
   ]
  },
  {
   "cell_type": "code",
   "execution_count": 55,
   "id": "f4aac614-b9b1-4ce1-a4e2-a09f61f00562",
   "metadata": {},
   "outputs": [
    {
     "data": {
      "text/plain": [
       "array([[ 0.28366219, -0.9899925 ,  0.54030231,  0.96017029],\n",
       "       [ 0.28366219,  0.96017029, -0.14550003,  0.75390225],\n",
       "       [-0.14550003,  0.96017029, -0.14550003, -0.65364362]])"
      ]
     },
     "execution_count": 55,
     "metadata": {},
     "output_type": "execute_result"
    }
   ],
   "source": [
    "np.cos(arr2)"
   ]
  },
  {
   "cell_type": "code",
   "execution_count": 56,
   "id": "a9eb30f9-9fb3-44a4-9192-62cc94a7c4a0",
   "metadata": {},
   "outputs": [
    {
     "data": {
      "text/plain": [
       "array([[-3.38051501, -0.14254654,  1.55740772, -0.29100619],\n",
       "       [-3.38051501, -0.29100619, -6.79971146,  0.87144798],\n",
       "       [-6.79971146, -0.29100619, -6.79971146,  1.15782128]])"
      ]
     },
     "execution_count": 56,
     "metadata": {},
     "output_type": "execute_result"
    }
   ],
   "source": [
    "np.tan(arr2)"
   ]
  },
  {
   "cell_type": "code",
   "execution_count": 57,
   "id": "14b3c24f-90fb-4100-ac0f-3f97c6a59d41",
   "metadata": {},
   "outputs": [
    {
     "data": {
      "text/plain": [
       "array([[0.9999092 , 0.99505475, 0.76159416, 0.99998771],\n",
       "       [0.9999092 , 0.99998771, 0.99999977, 0.99999834],\n",
       "       [0.99999977, 0.99998771, 0.99999977, 0.9993293 ]])"
      ]
     },
     "execution_count": 57,
     "metadata": {},
     "output_type": "execute_result"
    }
   ],
   "source": [
    "np.tanh(arr2)"
   ]
  },
  {
   "cell_type": "code",
   "execution_count": 58,
   "id": "5074a91e-1b6b-4ac1-9eaa-edb1be74688c",
   "metadata": {},
   "outputs": [
    {
     "data": {
      "text/plain": [
       "array([[0.69897   , 0.47712125, 0.        , 0.77815125],\n",
       "       [0.69897   , 0.77815125, 0.90308999, 0.84509804],\n",
       "       [0.90308999, 0.77815125, 0.90308999, 0.60205999]])"
      ]
     },
     "execution_count": 58,
     "metadata": {},
     "output_type": "execute_result"
    }
   ],
   "source": [
    "np.log10(arr2)"
   ]
  },
  {
   "cell_type": "code",
   "execution_count": 59,
   "id": "51b92caf-3ad1-4cd9-8d29-2800eff13097",
   "metadata": {},
   "outputs": [
    {
     "data": {
      "text/plain": [
       "array([[1.48413159e+02, 2.00855369e+01, 2.71828183e+00, 4.03428793e+02],\n",
       "       [1.48413159e+02, 4.03428793e+02, 2.98095799e+03, 1.09663316e+03],\n",
       "       [2.98095799e+03, 4.03428793e+02, 2.98095799e+03, 5.45981500e+01]])"
      ]
     },
     "execution_count": 59,
     "metadata": {},
     "output_type": "execute_result"
    }
   ],
   "source": [
    "np.exp(arr2)"
   ]
  },
  {
   "cell_type": "code",
   "execution_count": 60,
   "id": "de1a5526-985e-472e-9d17-2560030d7641",
   "metadata": {},
   "outputs": [
    {
     "data": {
      "text/plain": [
       "array([[2.23606798, 1.73205081, 1.        , 2.44948974],\n",
       "       [2.23606798, 2.44948974, 2.82842712, 2.64575131],\n",
       "       [2.82842712, 2.44948974, 2.82842712, 2.        ]])"
      ]
     },
     "execution_count": 60,
     "metadata": {},
     "output_type": "execute_result"
    }
   ],
   "source": [
    "np.sqrt(arr2)"
   ]
  },
  {
   "cell_type": "code",
   "execution_count": 61,
   "id": "e845ae0e-8c46-45bb-af7f-92c89b801621",
   "metadata": {},
   "outputs": [
    {
     "data": {
      "text/plain": [
       "array([[25,  9,  1, 36],\n",
       "       [25, 36, 64, 49],\n",
       "       [64, 36, 64, 16]])"
      ]
     },
     "execution_count": 61,
     "metadata": {},
     "output_type": "execute_result"
    }
   ],
   "source": [
    "np.power(arr2, 2)"
   ]
  },
  {
   "cell_type": "code",
   "execution_count": 62,
   "id": "40844866-d469-4340-82fd-c9e57f691f09",
   "metadata": {},
   "outputs": [
    {
     "data": {
      "text/plain": [
       "5.583333333333333"
      ]
     },
     "execution_count": 62,
     "metadata": {},
     "output_type": "execute_result"
    }
   ],
   "source": [
    "np.mean(arr2)"
   ]
  },
  {
   "cell_type": "code",
   "execution_count": 63,
   "id": "738d9f5e-3c63-4795-8990-11a1a1eab70f",
   "metadata": {},
   "outputs": [
    {
     "data": {
      "text/plain": [
       "6.0"
      ]
     },
     "execution_count": 63,
     "metadata": {},
     "output_type": "execute_result"
    }
   ],
   "source": [
    "np.median(arr2)"
   ]
  },
  {
   "cell_type": "code",
   "execution_count": 64,
   "id": "764fc5c4-66f9-4523-b8f7-77700fd5a3d2",
   "metadata": {},
   "outputs": [
    {
     "data": {
      "text/plain": [
       "2.0598678490513795"
      ]
     },
     "execution_count": 64,
     "metadata": {},
     "output_type": "execute_result"
    }
   ],
   "source": [
    "np.std(arr2)"
   ]
  },
  {
   "cell_type": "code",
   "execution_count": 65,
   "id": "8aca7299-df24-48b4-afd2-0716ed120dbb",
   "metadata": {},
   "outputs": [
    {
     "data": {
      "text/plain": [
       "4.243055555555556"
      ]
     },
     "execution_count": 65,
     "metadata": {},
     "output_type": "execute_result"
    }
   ],
   "source": [
    "np.var(arr2)"
   ]
  },
  {
   "cell_type": "code",
   "execution_count": 66,
   "id": "27855d83-009a-4b8d-8008-5d94d5fc3ff6",
   "metadata": {},
   "outputs": [
    {
     "data": {
      "text/plain": [
       "1"
      ]
     },
     "execution_count": 66,
     "metadata": {},
     "output_type": "execute_result"
    }
   ],
   "source": [
    "np.min(arr2)"
   ]
  },
  {
   "cell_type": "code",
   "execution_count": 67,
   "id": "30f70cb3-6e58-49ef-9b20-d91829c887c1",
   "metadata": {},
   "outputs": [
    {
     "data": {
      "text/plain": [
       "8"
      ]
     },
     "execution_count": 67,
     "metadata": {},
     "output_type": "execute_result"
    }
   ],
   "source": [
    "np.max(arr2)"
   ]
  },
  {
   "cell_type": "code",
   "execution_count": null,
   "id": "c81b50c3-94de-470a-a8f9-cbea7200c0cb",
   "metadata": {},
   "outputs": [],
   "source": []
  }
 ],
 "metadata": {
  "kernelspec": {
   "display_name": "Python 3 (ipykernel)",
   "language": "python",
   "name": "python3"
  },
  "language_info": {
   "codemirror_mode": {
    "name": "ipython",
    "version": 3
   },
   "file_extension": ".py",
   "mimetype": "text/x-python",
   "name": "python",
   "nbconvert_exporter": "python",
   "pygments_lexer": "ipython3",
   "version": "3.10.8"
  }
 },
 "nbformat": 4,
 "nbformat_minor": 5
}
